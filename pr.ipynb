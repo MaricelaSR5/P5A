{
  "nbformat": 4,
  "nbformat_minor": 0,
  "metadata": {
    "colab": {
      "name": "pr",
      "provenance": [],
      "authorship_tag": "ABX9TyMQc9BmDnSkTwVxz/OyXmdW",
      "include_colab_link": true
    },
    "kernelspec": {
      "name": "python3",
      "display_name": "Python 3"
    }
  },
  "cells": [
    {
      "cell_type": "markdown",
      "metadata": {
        "id": "view-in-github",
        "colab_type": "text"
      },
      "source": [
        "<a href=\"https://colab.research.google.com/github/MaricelaSR5/P5A/blob/main/pr.ipynb\" target=\"_parent\"><img src=\"https://colab.research.google.com/assets/colab-badge.svg\" alt=\"Open In Colab\"/></a>"
      ]
    },
    {
      "cell_type": "code",
      "metadata": {
        "colab": {
          "base_uri": "https://localhost:8080/"
        },
        "id": "4RiCLr3hbl2Q",
        "outputId": "045677e2-d4fd-40a8-bd47-753d3714b3e5"
      },
      "source": [
        "def insertionSort(arr): \n",
        "  \n",
        "    for i in range(1, len(arr)):  \n",
        "  \n",
        "        key = arr[i] \n",
        "  \n",
        "        j = i-1\n",
        "        while j >=0 and key < arr[j] : \n",
        "                arr[j+1] = arr[j] \n",
        "                j -= 1\n",
        "        arr[j+1] = key \n",
        "   \n",
        "arr = [12, 11, 13, 5, 6,2,1,3,0] \n",
        "print ('Lista no ordenada:',end='') \n",
        "print(arr)\n",
        "insertionSort(arr) \n",
        "print ('Lista ordenada:',end='') \n",
        "print(arr)"
      ],
      "execution_count": 2,
      "outputs": [
        {
          "output_type": "stream",
          "text": [
            "Lista no ordenada:[12, 11, 13, 5, 6, 2, 1, 3, 0]\n",
            "Lista ordenada:[0, 1, 2, 3, 5, 6, 11, 12, 13]\n"
          ],
          "name": "stdout"
        }
      ]
    }
  ]
}